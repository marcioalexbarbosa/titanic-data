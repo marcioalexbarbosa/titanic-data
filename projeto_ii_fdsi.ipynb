{
 "cells": [
  {
   "cell_type": "markdown",
   "metadata": {},
   "source": [
    "# Titanic - Projeto Final\n",
    "\n",
    "## Introdução\n",
    "\n",
    "O RMS Titanic foi um navio de passageiros britânico operado pela White Star Line e construído pelos estaleiros da Harland and Wolff em Belfast. Foi a segunda embarcação da Classe Olympic de transatlânticos depois do RMS Olympic e seguido pelo HMHS Britannic. Projetado pelos engenheiros navais Alexander Carlisle e Thomas Andrews, sua construção começou em março de 1909 e ele foi lançado ao mar em maio de 1911. O Titanic foi pensado para ser o navio mais luxuoso e mais seguro de sua época, gerando lendas que era supostamente \"inafundável\".\n",
    "\n",
    "Tinha 46 mil toneladas, quase 270 metros de comprimento e atravessava os oceanos a uma velocidade média de 39 km/h. RMS Titanic tinha, na sua viagem inaugural começada em Southampton a caminho de Nova Iorque, 892 membros da tripulação e 2.435 passageiros a bordo. Todos iriam testemunhar a travessia no “navio inafundável” que, a par dos navios Olympic e Britannic, seriam os trunfos da White Star Line contra os navios RMS Lusitania e o RMS Mauretania da concorrente Cunard Line. A 10 de abril de 1912, Titanic vira costas ao Reino Unido. Quatro dias depois, às 23h40 de 14 para 15 de abril, o “navio inafundável” não resistiu ao embate num iceberg. Foi um dos maiores desastres marítimos em tempo de paz do mundo.\n",
    "\n",
    "O conjunto de dados analisado representa os passageiros do Titanic. Vamos responder a algumas perguntas sobre os sobreviventes do desastre e tentar identificar alguns padrões."
   ]
  },
  {
   "cell_type": "code",
   "execution_count": 1,
   "metadata": {},
   "outputs": [],
   "source": [
    "# importa as libs necessárias\n",
    "import pandas as pd\n",
    "import matplotlib.pyplot as plt  \n",
    "import numpy as np\n",
    "\n",
    "# para permitir mostrar a saída dos plots\n",
    "%matplotlib inline"
   ]
  },
  {
   "cell_type": "code",
   "execution_count": 2,
   "metadata": {},
   "outputs": [
    {
     "data": {
      "text/html": [
       "<div>\n",
       "<style scoped>\n",
       "    .dataframe tbody tr th:only-of-type {\n",
       "        vertical-align: middle;\n",
       "    }\n",
       "\n",
       "    .dataframe tbody tr th {\n",
       "        vertical-align: top;\n",
       "    }\n",
       "\n",
       "    .dataframe thead th {\n",
       "        text-align: right;\n",
       "    }\n",
       "</style>\n",
       "<table border=\"1\" class=\"dataframe\">\n",
       "  <thead>\n",
       "    <tr style=\"text-align: right;\">\n",
       "      <th></th>\n",
       "      <th>PassengerId</th>\n",
       "      <th>Survived</th>\n",
       "      <th>Pclass</th>\n",
       "      <th>Name</th>\n",
       "      <th>Sex</th>\n",
       "      <th>Age</th>\n",
       "      <th>SibSp</th>\n",
       "      <th>Parch</th>\n",
       "      <th>Ticket</th>\n",
       "      <th>Fare</th>\n",
       "      <th>Cabin</th>\n",
       "      <th>Embarked</th>\n",
       "    </tr>\n",
       "  </thead>\n",
       "  <tbody>\n",
       "    <tr>\n",
       "      <th>0</th>\n",
       "      <td>1</td>\n",
       "      <td>0</td>\n",
       "      <td>3</td>\n",
       "      <td>Braund, Mr. Owen Harris</td>\n",
       "      <td>male</td>\n",
       "      <td>22.0</td>\n",
       "      <td>1</td>\n",
       "      <td>0</td>\n",
       "      <td>A/5 21171</td>\n",
       "      <td>7.2500</td>\n",
       "      <td>NaN</td>\n",
       "      <td>S</td>\n",
       "    </tr>\n",
       "    <tr>\n",
       "      <th>1</th>\n",
       "      <td>2</td>\n",
       "      <td>1</td>\n",
       "      <td>1</td>\n",
       "      <td>Cumings, Mrs. John Bradley (Florence Briggs Th...</td>\n",
       "      <td>female</td>\n",
       "      <td>38.0</td>\n",
       "      <td>1</td>\n",
       "      <td>0</td>\n",
       "      <td>PC 17599</td>\n",
       "      <td>71.2833</td>\n",
       "      <td>C85</td>\n",
       "      <td>C</td>\n",
       "    </tr>\n",
       "    <tr>\n",
       "      <th>2</th>\n",
       "      <td>3</td>\n",
       "      <td>1</td>\n",
       "      <td>3</td>\n",
       "      <td>Heikkinen, Miss. Laina</td>\n",
       "      <td>female</td>\n",
       "      <td>26.0</td>\n",
       "      <td>0</td>\n",
       "      <td>0</td>\n",
       "      <td>STON/O2. 3101282</td>\n",
       "      <td>7.9250</td>\n",
       "      <td>NaN</td>\n",
       "      <td>S</td>\n",
       "    </tr>\n",
       "    <tr>\n",
       "      <th>3</th>\n",
       "      <td>4</td>\n",
       "      <td>1</td>\n",
       "      <td>1</td>\n",
       "      <td>Futrelle, Mrs. Jacques Heath (Lily May Peel)</td>\n",
       "      <td>female</td>\n",
       "      <td>35.0</td>\n",
       "      <td>1</td>\n",
       "      <td>0</td>\n",
       "      <td>113803</td>\n",
       "      <td>53.1000</td>\n",
       "      <td>C123</td>\n",
       "      <td>S</td>\n",
       "    </tr>\n",
       "    <tr>\n",
       "      <th>4</th>\n",
       "      <td>5</td>\n",
       "      <td>0</td>\n",
       "      <td>3</td>\n",
       "      <td>Allen, Mr. William Henry</td>\n",
       "      <td>male</td>\n",
       "      <td>35.0</td>\n",
       "      <td>0</td>\n",
       "      <td>0</td>\n",
       "      <td>373450</td>\n",
       "      <td>8.0500</td>\n",
       "      <td>NaN</td>\n",
       "      <td>S</td>\n",
       "    </tr>\n",
       "  </tbody>\n",
       "</table>\n",
       "</div>"
      ],
      "text/plain": [
       "   PassengerId  Survived  Pclass  \\\n",
       "0            1         0       3   \n",
       "1            2         1       1   \n",
       "2            3         1       3   \n",
       "3            4         1       1   \n",
       "4            5         0       3   \n",
       "\n",
       "                                                Name     Sex   Age  SibSp  \\\n",
       "0                            Braund, Mr. Owen Harris    male  22.0      1   \n",
       "1  Cumings, Mrs. John Bradley (Florence Briggs Th...  female  38.0      1   \n",
       "2                             Heikkinen, Miss. Laina  female  26.0      0   \n",
       "3       Futrelle, Mrs. Jacques Heath (Lily May Peel)  female  35.0      1   \n",
       "4                           Allen, Mr. William Henry    male  35.0      0   \n",
       "\n",
       "   Parch            Ticket     Fare Cabin Embarked  \n",
       "0      0         A/5 21171   7.2500   NaN        S  \n",
       "1      0          PC 17599  71.2833   C85        C  \n",
       "2      0  STON/O2. 3101282   7.9250   NaN        S  \n",
       "3      0            113803  53.1000  C123        S  \n",
       "4      0            373450   8.0500   NaN        S  "
      ]
     },
     "execution_count": 2,
     "metadata": {},
     "output_type": "execute_result"
    }
   ],
   "source": [
    "# lê o csv com os dados originais\n",
    "df_titanic = pd.read_csv(\"titanic-data-6.csv\")\n",
    "\n",
    "# mostra alguns registros\n",
    "df_titanic.head()"
   ]
  },
  {
   "cell_type": "code",
   "execution_count": 3,
   "metadata": {},
   "outputs": [],
   "source": [
    "# definição de funções\n",
    "def formata_decimal(value):\n",
    "    \"\"\"\n",
    "        formata um número decimal com duas casas\n",
    "        argumentos:\n",
    "            value - o valor a ser formatado\n",
    "    \"\"\"\n",
    "    return \"{0:.2f}\".format(value)\n",
    "\n",
    "def formata_porcentagem(value):\n",
    "    \"\"\"\n",
    "        formata um número porcentagem com duas casas\n",
    "        argumentos:\n",
    "            value - o valor a ser formatado\n",
    "    \"\"\"\n",
    "    return \"{0:.2f}%\".format(value)"
   ]
  },
  {
   "cell_type": "markdown",
   "metadata": {},
   "source": [
    "## Perguntas\n",
    "\n",
    "- Qual a idade média dos sobreviventes?\n",
    "- Qual o sexo com mais sobreviventes?\n",
    "- Qual a porcentagem de crianças sobreviventes?\n",
    "- Qual a porcentagem de sobreviventes com parentes a bordo?\n",
    "- Qual a quantidade de sobreviventes por local de embarque?\n",
    "- Qual a idade média dos sobreviventes de primeira classe que embarcaram em Cherbourg?\n",
    "- Qual a relação entre sexo e categoria de idade (criança, adolescente, adulto) entre os sobreviventes"
   ]
  },
  {
   "cell_type": "markdown",
   "metadata": {},
   "source": [
    "## Limpeza dos dados\n",
    "\n",
    "Vamos remover as colunas Ticket, Fare e Cabin porque não vamos utilizá-las para responder às nossas perguntas.\n",
    "Para preencher os dados faltantes da coluna Age, vamos utilizar a idade média dos registros que contém o campo.\n",
    "Para preencher os dados faltantes da coluna Embarked vamos utilizar o local com maior número de embarque."
   ]
  },
  {
   "cell_type": "code",
   "execution_count": 4,
   "metadata": {},
   "outputs": [],
   "source": [
    "# remove do dataframe as colunas que não vamos usar\n",
    "df_titanic_clean = df_titanic.drop(columns=['Ticket', 'Fare', 'Cabin'])\n",
    "\n",
    "# preenche os registros nulos de idade com a média das idades\n",
    "df_titanic_clean['Age'].fillna((df_titanic_clean['Age'].mean()), inplace=True)\n",
    "\n",
    "# verifica qual é o local com maior número de embarques\n",
    "max_col = df_titanic_clean.groupby('Embarked').count()[\"Survived\"].idxmax()\n",
    "\n",
    "# preenche os registros nulos de local de embarque com o local de maior número de embarques\n",
    "df_titanic_clean['Embarked'].fillna(max_col, inplace=True)\n",
    "\n",
    "# gera um outro csv com os dados recém tratados\n",
    "df_titanic_clean.to_csv('titanic_clean.csv', index=False)"
   ]
  },
  {
   "cell_type": "markdown",
   "metadata": {},
   "source": [
    "## Análise\n",
    "\n",
    "Vamos criar um dataframe contendo apenas os sobreviventes e extrair algumas informações a partir dele.\n"
   ]
  },
  {
   "cell_type": "code",
   "execution_count": 5,
   "metadata": {},
   "outputs": [
    {
     "data": {
      "text/html": [
       "<div>\n",
       "<style scoped>\n",
       "    .dataframe tbody tr th:only-of-type {\n",
       "        vertical-align: middle;\n",
       "    }\n",
       "\n",
       "    .dataframe tbody tr th {\n",
       "        vertical-align: top;\n",
       "    }\n",
       "\n",
       "    .dataframe thead th {\n",
       "        text-align: right;\n",
       "    }\n",
       "</style>\n",
       "<table border=\"1\" class=\"dataframe\">\n",
       "  <thead>\n",
       "    <tr style=\"text-align: right;\">\n",
       "      <th></th>\n",
       "      <th>Survived</th>\n",
       "      <th>Pclass</th>\n",
       "      <th>Name</th>\n",
       "      <th>Sex</th>\n",
       "      <th>Age</th>\n",
       "      <th>SibSp</th>\n",
       "      <th>Parch</th>\n",
       "      <th>Embarked</th>\n",
       "    </tr>\n",
       "    <tr>\n",
       "      <th>PassengerId</th>\n",
       "      <th></th>\n",
       "      <th></th>\n",
       "      <th></th>\n",
       "      <th></th>\n",
       "      <th></th>\n",
       "      <th></th>\n",
       "      <th></th>\n",
       "      <th></th>\n",
       "    </tr>\n",
       "  </thead>\n",
       "  <tbody>\n",
       "    <tr>\n",
       "      <th>2</th>\n",
       "      <td>1</td>\n",
       "      <td>1</td>\n",
       "      <td>Cumings, Mrs. John Bradley (Florence Briggs Th...</td>\n",
       "      <td>female</td>\n",
       "      <td>38.0</td>\n",
       "      <td>1</td>\n",
       "      <td>0</td>\n",
       "      <td>C</td>\n",
       "    </tr>\n",
       "    <tr>\n",
       "      <th>3</th>\n",
       "      <td>1</td>\n",
       "      <td>3</td>\n",
       "      <td>Heikkinen, Miss. Laina</td>\n",
       "      <td>female</td>\n",
       "      <td>26.0</td>\n",
       "      <td>0</td>\n",
       "      <td>0</td>\n",
       "      <td>S</td>\n",
       "    </tr>\n",
       "    <tr>\n",
       "      <th>4</th>\n",
       "      <td>1</td>\n",
       "      <td>1</td>\n",
       "      <td>Futrelle, Mrs. Jacques Heath (Lily May Peel)</td>\n",
       "      <td>female</td>\n",
       "      <td>35.0</td>\n",
       "      <td>1</td>\n",
       "      <td>0</td>\n",
       "      <td>S</td>\n",
       "    </tr>\n",
       "    <tr>\n",
       "      <th>9</th>\n",
       "      <td>1</td>\n",
       "      <td>3</td>\n",
       "      <td>Johnson, Mrs. Oscar W (Elisabeth Vilhelmina Berg)</td>\n",
       "      <td>female</td>\n",
       "      <td>27.0</td>\n",
       "      <td>0</td>\n",
       "      <td>2</td>\n",
       "      <td>S</td>\n",
       "    </tr>\n",
       "    <tr>\n",
       "      <th>10</th>\n",
       "      <td>1</td>\n",
       "      <td>2</td>\n",
       "      <td>Nasser, Mrs. Nicholas (Adele Achem)</td>\n",
       "      <td>female</td>\n",
       "      <td>14.0</td>\n",
       "      <td>1</td>\n",
       "      <td>0</td>\n",
       "      <td>C</td>\n",
       "    </tr>\n",
       "  </tbody>\n",
       "</table>\n",
       "</div>"
      ],
      "text/plain": [
       "             Survived  Pclass  \\\n",
       "PassengerId                     \n",
       "2                   1       1   \n",
       "3                   1       3   \n",
       "4                   1       1   \n",
       "9                   1       3   \n",
       "10                  1       2   \n",
       "\n",
       "                                                          Name     Sex   Age  \\\n",
       "PassengerId                                                                    \n",
       "2            Cumings, Mrs. John Bradley (Florence Briggs Th...  female  38.0   \n",
       "3                                       Heikkinen, Miss. Laina  female  26.0   \n",
       "4                 Futrelle, Mrs. Jacques Heath (Lily May Peel)  female  35.0   \n",
       "9            Johnson, Mrs. Oscar W (Elisabeth Vilhelmina Berg)  female  27.0   \n",
       "10                         Nasser, Mrs. Nicholas (Adele Achem)  female  14.0   \n",
       "\n",
       "             SibSp  Parch Embarked  \n",
       "PassengerId                         \n",
       "2                1      0        C  \n",
       "3                0      0        S  \n",
       "4                1      0        S  \n",
       "9                0      2        S  \n",
       "10               1      0        C  "
      ]
     },
     "execution_count": 5,
     "metadata": {},
     "output_type": "execute_result"
    }
   ],
   "source": [
    "# abre o arquivo csv com os dados limpos\n",
    "df_titanic = pd.read_csv('titanic_clean.csv')\n",
    "\n",
    "# muda o index de default para PassengerId\n",
    "df_titanic.set_index('PassengerId', inplace=True)\n",
    "\n",
    "# obtém apenas os registros com sobreviventes\n",
    "df_survived = df_titanic[df_titanic.Survived==1]\n",
    "\n",
    "# mostra alguns registros do dataframe\n",
    "df_survived.head()"
   ]
  },
  {
   "cell_type": "markdown",
   "metadata": {},
   "source": [
    "# Perguntas\n",
    "\n",
    "1 - Qual a idade média dos sobreviventes?\n",
    "\n",
    "Vamos utilizar o método mean para calcular a média sobre a idade a partir do dataframe dos sobreviventes."
   ]
  },
  {
   "cell_type": "code",
   "execution_count": 6,
   "metadata": {
    "scrolled": true
   },
   "outputs": [
    {
     "data": {
      "text/plain": [
       "'28.55'"
      ]
     },
     "execution_count": 6,
     "metadata": {},
     "output_type": "execute_result"
    }
   ],
   "source": [
    "# obtém a média de idade a partir do dataframe de sobreviventes\n",
    "mean = df_survived[\"Age\"].mean()\n",
    "\n",
    "# formata o número para exibição\n",
    "formata_decimal(mean)"
   ]
  },
  {
   "cell_type": "markdown",
   "metadata": {},
   "source": [
    "Podemos concluir que os sobreviventes eram relativamente jovens."
   ]
  },
  {
   "cell_type": "markdown",
   "metadata": {},
   "source": [
    "2 - Qual o sexo com mais sobreviventes?\n",
    "\n",
    "A partir do dataframe de sobreviventes vamos executar queries para extrair o total de registros entre os dois gêneros: masculino e feminino. Vamos então criar um gráfico de \"pizza\" para mostrar o resultado."
   ]
  },
  {
   "cell_type": "code",
   "execution_count": 7,
   "metadata": {},
   "outputs": [
    {
     "data": {
      "image/png": "[encoded data removed]",
      "text/plain": [
       "<Figure size 432x288 with 1 Axes>"
      ]
     },
     "metadata": {},
     "output_type": "display_data"
    }
   ],
   "source": [
    "# obtém o total de homens a partir do dataframe de sobreviventes\n",
    "total_male_survivors = df_survived[df_survived.Sex==\"male\"].shape[0]\n",
    "# obtém o total de mulheres a partir do dataframe de sobreviventes\n",
    "total_female_survivors = df_survived[df_survived.Sex==\"female\"].shape[0]\n",
    "\n",
    "# prepara os labels para exibição do pie chart\n",
    "labels = 'Male Survivors', 'Female Survivors'\n",
    "# prepara as proporções a serem plotadas no pie chart\n",
    "sizes = [total_male_survivors, total_female_survivors]\n",
    "# determina que não é para destacar nenhuma das fatias\n",
    "explode = (0, 0)\n",
    "\n",
    "# configura o pie chart e exibe\n",
    "fig1, ax1 = plt.subplots()\n",
    "ax1.pie(sizes, explode=explode, labels=labels, autopct='%1.1f%%',\n",
    "        shadow=True, startangle=90)\n",
    "ax1.axis('equal')\n",
    "\n",
    "plt.title('piechart - Survivors by gender',fontsize=20)\n",
    "plt.show()"
   ]
  },
  {
   "cell_type": "markdown",
   "metadata": {},
   "source": [
    "Podemos concluir que a maioria dos sobreviventes é do sexo feminino."
   ]
  },
  {
   "cell_type": "markdown",
   "metadata": {},
   "source": [
    "3 - Qual a porcentagem de crianças sobreviventes?\n",
    "\n",
    "Consideramos como crianças os sobreviventes com idade menor ou igual a 12. Calculamos então a porcentagem de crianças sobreviventes em relação ao total de passageiros."
   ]
  },
  {
   "cell_type": "code",
   "execution_count": 8,
   "metadata": {},
   "outputs": [
    {
     "data": {
      "text/plain": [
       "'4.49%'"
      ]
     },
     "execution_count": 8,
     "metadata": {},
     "output_type": "execute_result"
    }
   ],
   "source": [
    "# obtem um dataframe com as crianças sobreviventes\n",
    "df_children = df_survived.query(\"Age <= 12\")\n",
    "\n",
    "# obtém o total de passageiros\n",
    "total_passengers = df_titanic.shape[0]\n",
    "\n",
    "# calcula a porcentagem de crianças sobreviventes\n",
    "percentage_children_survived = (df_children.shape[0]*100)/total_passengers\n",
    "\n",
    "# formata e exibe\n",
    "formata_porcentagem(percentage_children_survived)"
   ]
  },
  {
   "cell_type": "markdown",
   "metadata": {},
   "source": [
    "Concluimos que é muito baixa a porcentagem de crianças sobreviventes."
   ]
  },
  {
   "cell_type": "markdown",
   "metadata": {},
   "source": [
    "4 - Qual a porcentagem de sobreviventes com parentes a bordo?\n",
    "\n",
    "Vamos investigar a porcentagem de sobreviventes com parentes (esposa, marido, crianças, pais) a bordo e calcular a porcentagem destes em relação ao total de passageiros."
   ]
  },
  {
   "cell_type": "code",
   "execution_count": 9,
   "metadata": {},
   "outputs": [
    {
     "data": {
      "text/plain": [
       "'20.09%'"
      ]
     },
     "execution_count": 9,
     "metadata": {},
     "output_type": "execute_result"
    }
   ],
   "source": [
    "# obtem um dataframe contendo sobreviventes com parentes a bordo\n",
    "df_relatives = df_survived[(df_survived['SibSp'] > 0) | (df_survived['Parch'] > 0)]\n",
    "\n",
    "# calcula a porcentagem\n",
    "percentage_survivors_with_relatives = (df_relatives.shape[0]*100)/total_passengers\n",
    "\n",
    "# formata e exibe\n",
    "formata_porcentagem(percentage_survivors_with_relatives)"
   ]
  },
  {
   "cell_type": "markdown",
   "metadata": {},
   "source": [
    "Concluímos que também é baixa a taxa de sobrevivência dos passageiros com parentes a bordo."
   ]
  },
  {
   "cell_type": "markdown",
   "metadata": {},
   "source": [
    "5 - Qual a quantidade de sobreviventes por local de embarque?\n",
    "\n",
    "Vamos investigar se o local de embarque tem proeminência sobre o total de sobreviventes."
   ]
  },
  {
   "cell_type": "code",
   "execution_count": 10,
   "metadata": {},
   "outputs": [
    {
     "data": {
      "image/png": "[encoded data removed]",
      "text/plain": [
       "<Figure size 432x288 with 1 Axes>"
      ]
     },
     "metadata": {
      "needs_background": "light"
     },
     "output_type": "display_data"
    }
   ],
   "source": [
    "# obtem um dataframe com totais agrupados pelo local de embarque\n",
    "g = df_survived.groupby(['Embarked']).size().reset_index(name='count')\n",
    "\n",
    "# configura o barchart e exibe\n",
    "embarked = ['Cherbourg','Queenstown','Southampton']\n",
    "pos = np.arange(len(embarked))\n",
    " \n",
    "plt.bar(g['Embarked'],g['count'])\n",
    "plt.xticks(pos, embarked)\n",
    "plt.xlabel('Embarked', fontsize=16)\n",
    "plt.ylabel('Count', fontsize=16)\n",
    "plt.title('Barchart - Count by embarked',fontsize=20)\n",
    "plt.show()\n",
    "\n"
   ]
  },
  {
   "cell_type": "markdown",
   "metadata": {},
   "source": [
    "Concluímos que foi bem maior o número de sobreviventes que embarcaram em Southampton."
   ]
  },
  {
   "cell_type": "markdown",
   "metadata": {},
   "source": [
    "6 - Qual a idade média dos sobreviventes de primeira classe que embarcaram em Cherboug?\n",
    "\n",
    "Vamos obter a média de idade dos passageiros que embarcaram em Cherboug e são de primeira classe, entre o dataframe de sobreviventes."
   ]
  },
  {
   "cell_type": "code",
   "execution_count": 11,
   "metadata": {},
   "outputs": [
    {
     "data": {
      "text/plain": [
       "'35.27'"
      ]
     },
     "execution_count": 11,
     "metadata": {},
     "output_type": "execute_result"
    }
   ],
   "source": [
    "# obtem um dataframe com passageiros sobreviventes de primeira classe que embarcaram em Cherboug\n",
    "df_first_class_cherboug = df_survived[(df_survived[\"Embarked\"]==\"C\") & (df_survived[\"Pclass\"]==1)]\n",
    "\n",
    "# obtem a média de idade\n",
    "mean = df_first_class_cherboug[\"Age\"].mean()\n",
    "\n",
    "# formata e exibe\n",
    "formata_decimal(mean)"
   ]
  },
  {
   "cell_type": "markdown",
   "metadata": {},
   "source": [
    "Podemos concluir que são relativamente jovens os sobreviventes de primeira classe que embarcaram em Cherboug."
   ]
  },
  {
   "cell_type": "markdown",
   "metadata": {},
   "source": [
    "7 - Qual a relação entre sexo e categoria de idade (criança, adolescente, adulto) entre os sobreviventes \n",
    "\n",
    "Queremos investigar a proporção de sobreviventes entre crianças, adolescentes e adultos.\n",
    "Vamos usar a seguinte lógica para classificar os sobreviventes:\n",
    "\n",
    "* crianças - 0 a 12 anos, inclusive.\n",
    "* adolescentes - 13 a 18 anos, inclusive.\n",
    "* adultos - maior que 18 anos."
   ]
  },
  {
   "cell_type": "code",
   "execution_count": 12,
   "metadata": {
    "scrolled": true
   },
   "outputs": [
    {
     "data": {
      "text/plain": [
       "<matplotlib.legend.Legend at 0x7fe566063400>"
      ]
     },
     "execution_count": 12,
     "metadata": {},
     "output_type": "execute_result"
    },
    {
     "data": {
      "image/png": "[encoded data removed]",
      "text/plain": [
       "<Figure size 432x288 with 1 Axes>"
      ]
     },
     "metadata": {
      "needs_background": "light"
     },
     "output_type": "display_data"
    }
   ],
   "source": [
    "# obtem o total de crianças meninos sobreviventes\n",
    "male_children_survived = df_survived[(df_survived[\"Age\"]<=12) & (df_survived[\"Sex\"]==\"male\")].shape[0]\n",
    "\n",
    "# obtem o total de adolescentes homens sobreviventes\n",
    "male_teenager_survived = df_survived[(df_survived[\"Age\"]>12) & (df_survived[\"Age\"]<=18) & (df_survived[\"Sex\"]==\"male\")].shape[0]\n",
    "\n",
    "# obtem o total de adultos homens sobreviventes\n",
    "male_adult_survived = df_survived[(df_survived[\"Age\"]>18) & (df_survived[\"Sex\"]==\"male\")].shape[0]\n",
    "\n",
    "# obtem o total de crianças meninas sobreviventes\n",
    "female_children_survived = df_survived[(df_survived[\"Age\"]<=12) & (df_survived[\"Sex\"]==\"female\")].shape[0]\n",
    "\n",
    "# obtem o total de adolescentes mulheres sobreviventes\n",
    "female_teenager_survived = df_survived[(df_survived[\"Age\"]>12) & (df_survived[\"Age\"]<=18) & (df_survived[\"Sex\"]==\"female\")].shape[0]\n",
    "\n",
    "# obtem o total de adultos mulheres sobreviventes\n",
    "female_adult_survived = df_survived[(df_survived[\"Age\"]>18) & (df_survived[\"Sex\"]==\"female\")].shape[0]\n",
    "\n",
    "# organiza os dados para exibição do bar chart\n",
    "male = [male_children_survived, male_teenager_survived, male_adult_survived]\n",
    "female = [female_children_survived, female_teenager_survived, female_adult_survived]\n",
    "\n",
    "# configura o bar chart e exibe\n",
    "category = ['child', 'teenager', 'adult']\n",
    "\n",
    "pos = np.arange(3)\n",
    "size = .35\n",
    "\n",
    "fig, ax = plt.subplots()\n",
    "\n",
    "plt1 = ax.bar(pos-size/2, male, size, color='blue', label='Male')\n",
    "plt2 = ax.bar(pos+size/2, female, size, color='red', label='Female')\n",
    "\n",
    "ax.set_title('Count of survivors by sex and age')\n",
    "ax.set_xlabel('Age')\n",
    "ax.set_ylabel('Count of people')\n",
    "\n",
    "ax.set_xticks(pos) \n",
    "ax.set_xticklabels(category, rotation=45, ha='right') \n",
    "ax.legend()"
   ]
  },
  {
   "cell_type": "markdown",
   "metadata": {},
   "source": [
    "Podemos concluir que entre os sobreviventes crianças, há a mesma proporção de meninos e meninas. Para os adolescentes e adultos, é bem maior a proporção de mulheres."
   ]
  },
  {
   "cell_type": "markdown",
   "metadata": {},
   "source": [
    "## Resultados\n",
    "\n",
    "Respondendos às perguntas que fizemos no início:\n",
    "\n",
    "- Qual a idade média dos sobreviventes?\n",
    "\n",
    "Os sobreviventes tem idade média de 28.55 anos\n",
    "\n",
    "- Qual o sexo com mais sobreviventes?\n",
    "\n",
    "O gênero com mais sobreviventes é o feminino, com 68,1%\n",
    "\n",
    "- Qual a porcentagem de crianças sobreviventes?\n",
    "\n",
    "A porcentagem de crianças sobreviventes é baixa, 4,49%.\n",
    "\n",
    "- Qual a porcentagem de sobreviventes com parentes a bordo?\n",
    "\n",
    "A porcentagem de sobreviventes com parentes a bordo também é baixa, 20.09%\n",
    "\n",
    "- Qual a quantidade de sobreviventes por local de embarque?\n",
    "\n",
    "A grande maioria dos sobreviventes embarcou em Southampton. Em seguida, por ordem de quantidade, temos Queenstown e Cherbourg.\n",
    "\n",
    "- Qual a idade média dos sobreviventes de primeira classe que embarcaram em Cherbourg?\n",
    "\n",
    "A idade médias dos sobreviventes de primeira classe embarcados em Cherbourg é de 35.27 anos\n",
    "\n",
    "- Qual a relação entre sexo e categoria de idade (criança, adolescente, adulto) entre os sobreviventes\n",
    "\n",
    "Entre as crianças temos números semelhantes de sobreviventes entre os gêneros. Para os adolescentes e adultos, temos um número bem maior de mulheres sobreviventes.\n",
    "\n",
    "### Dificuldades encontradas na análise e conclusões\n",
    "\n",
    "As respostas às perguntas que tem relação com a idade são uma aproximação, já que havia muitos registros com valor nulo para a idade. Para o local de embarque haviam apenas 2 registros faltando, então podemos considerar como relativamente fidedignos os resultados que tem relação com o local de embarque. Para a pergunta sobre sobreviventes com parentes a bordo, levamos em consideração as colunas\n",
    "\n",
    "* sibsp\t- número de irmãos / parceiros/esposas a bordo do Titanic\n",
    "* parch\t- número de pais / filhos a bordo do Titanic\n",
    "\n",
    "A partir das análises observadas concluímos que a maioria dos sobreviventes é do sexo feminino, são relativamente jovens e embarcaram em Southampton."
   ]
  },
  {
   "cell_type": "markdown",
   "metadata": {},
   "source": [
    "## Bibliografia\n",
    "\n",
    "\n",
    "[RMS Titanic - Wikipedia a enciclopédia livre](https://pt.wikipedia.org/wiki/RMS_Titanic)\n",
    "\n",
    "[Titanic. 105 anos depois, 27 fotos dos dias a seguir ao desastre](https://observador.pt/2017/04/17/105-anos-depois-27-fotos-dos-dias-a-seguir-ao-desastre-do-titanic/)\n",
    "\n",
    "[Titanic: Machine Learning from Disaster](https://www.kaggle.com/c/titanic/data)\n",
    "\n",
    "[Predicting the Survival of Titanic Passengers](https://towardsdatascience.com/predicting-the-survival-of-titanic-passengers-30870ccc7e8)\n",
    "\n",
    "[Exploring Titanic Data Using Pandas Dataframes](https://www.kaggle.com/inturiyam/exploring-titanic-data-using-pandas-dataframes/data)\n",
    "\n",
    "[Looking for Survivors with Titanic Data Analysis](https://jasonicarter.github.io/survival-analysis-titanic-data/)"
   ]
  }
 ],
 "metadata": {
  "kernelspec": {
   "display_name": "Python 3",
   "language": "python",
   "name": "python3"
  },
  "language_info": {
   "codemirror_mode": {
    "name": "ipython",
    "version": 3
   },
   "file_extension": ".py",
   "mimetype": "text/x-python",
   "name": "python",
   "nbconvert_exporter": "python",
   "pygments_lexer": "ipython3",
   "version": "3.7.1"
  }
 },
 "nbformat": 4,
 "nbformat_minor": 2
}
